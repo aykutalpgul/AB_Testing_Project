{
 "cells": [
  {
   "cell_type": "markdown",
   "metadata": {},
   "source": [
    "# Case\n",
    "#### Digital advertising platforms try to optimize conversion rates by offering advertisers different bidding strategies. Recently, a new method called \"average bidding\" was introduced as an alternative to the current \"maximum bidding\" model. <br>\n",
    "\n",
    "#### One of our customers, dataworld.com, decided to test whether this new model was more efficient. They wanted an A/B test to understand whether \"average bidding\" yielded higher conversions than \"Maximum Bidding\" model. <br>\n",
    "\n",
    "#### This A/B test has been going on for a month and veridunya.com expects you to analyze the results of the test. The most important success metric for the company is the _Purchase_ metric. Therefore, statistical analysis should focus on this metric."
   ]
  },
  {
   "cell_type": "markdown",
   "metadata": {},
   "source": [
    "Data Set Description\n",
    "This data set, which includes ad impressions and user interactions of an e-commerce site, includes the number of clicks on the ads that visitors see and the revenue information obtained. There are two different groups in the study:\n",
    "* Control Group: Maximum Bidding method was applied.\n",
    "* Test Group: Average Bidding method was applied.\n",
    "\n",
    "The data is located on separate sheets of the Excel file named ab_test_data.xlsx."
   ]
  },
  {
   "cell_type": "markdown",
   "metadata": {},
   "source": [
    "#### Variables and Explanations\n",
    "**Impression:** Number of ad views <br>\n",
    "**Click:** Number of clicks on the displayed ad <br>\n",
    "**Purchase:** Number of purchases after clicking on the ad <br>\n",
    "**Earning:** Income earned after purchase <br>\n",
    "\n"
   ]
  },
  {
   "cell_type": "code",
   "execution_count": 1,
   "metadata": {},
   "outputs": [],
   "source": [
    "import itertools\n",
    "import numpy as np\n",
    "import pandas as pd\n",
    "import matplotlib.pyplot as plt\n",
    "import seaborn as sns\n",
    "# !pip install statsmodels\n",
    "import statsmodels.stats.api as sms\n",
    "from scipy.stats import ttest_1samp, shapiro, levene, ttest_ind, mannwhitneyu, \\\n",
    "    pearsonr, spearmanr, kendalltau, f_oneway, kruskal\n",
    "from statsmodels.stats.proportion import proportions_ztest\n",
    "\n",
    "pd.set_option('display.max_columns', None)\n",
    "pd.set_option('display.max_rows', 10)\n",
    "pd.set_option('display.float_format', lambda x: '%.4f' % x)"
   ]
  },
  {
   "cell_type": "markdown",
   "metadata": {},
   "source": [
    "#### Task 1: Data Preparation and Analysis\n",
    "##### Step 1:\n",
    "* Read the control and test group data in the ab_test_data.xlsx file. <br>\n",
    "* Assign the data for the control group and the test group to separate variables."
   ]
  },
  {
   "cell_type": "markdown",
   "metadata": {},
   "source": [
    "After assigning the file path to a variable, we assign file path as raw into the pandas read_excel function and sheet names are assigned to _sheet_name_\n"
   ]
  },
  {
   "cell_type": "code",
   "execution_count": 2,
   "metadata": {},
   "outputs": [],
   "source": [
    "File_path=r\"C:\\Users\\aykut\\Desktop\\GitProjects\\AB_Testing_Average_Bidding\\data\\data.xlsx\"\n",
    "Control_df=pd.read_excel(File_path,sheet_name=\"Control Group\")"
   ]
  },
  {
   "cell_type": "markdown",
   "metadata": {},
   "source": [
    "First 5 raws are show by head."
   ]
  },
  {
   "cell_type": "code",
   "execution_count": 3,
   "metadata": {},
   "outputs": [
    {
     "data": {
      "text/plain": [
       "(   Impression     Click  Purchase   Earning\n",
       " 0  82529.4593 6090.0773  665.2113 2311.2771\n",
       " 1  98050.4519 3382.8618  315.0849 1742.8069\n",
       " 2  82696.0235 4167.9657  458.0837 1797.8274\n",
       " 3 109914.4004 4910.8822  487.0908 1696.2292\n",
       " 4 108457.7626 5987.6558  441.0340 1543.7202,\n",
       "    Impression     Click  Purchase   Earning\n",
       " 0 120103.5038 3216.5480  702.1603 1939.6112\n",
       " 1 134775.9434 3635.0824  834.0543 2929.4058\n",
       " 2 107806.6208 3057.1436  422.9343 2526.2449\n",
       " 3 116445.2755 4650.4739  429.0335 2281.4286\n",
       " 4 145082.5168 5201.3877  749.8604 2781.6975)"
      ]
     },
     "execution_count": 3,
     "metadata": {},
     "output_type": "execute_result"
    }
   ],
   "source": [
    "Test_df=pd.read_excel(File_path,sheet_name=\"Test Group\")\n",
    "Control_df.head(),Test_df.head()"
   ]
  },
  {
   "cell_type": "markdown",
   "metadata": {},
   "source": [
    "##### Step 2:\n",
    "**Analyze basic statistics of control and test group data.**\n",
    "* Calculate basic statistics such as mean, median, standard deviation.\n",
    "* Comment on whether there is a noticeable difference between the groups."
   ]
  },
  {
   "cell_type": "markdown",
   "metadata": {},
   "source": [
    "First I am going to show describe of the two Groups, then in order to make clear implementations, I will assign  mean of each columns in the two data sheets in a dataframe. "
   ]
  },
  {
   "cell_type": "code",
   "execution_count": 4,
   "metadata": {},
   "outputs": [
    {
     "data": {
      "text/html": [
       "<div>\n",
       "<style scoped>\n",
       "    .dataframe tbody tr th:only-of-type {\n",
       "        vertical-align: middle;\n",
       "    }\n",
       "\n",
       "    .dataframe tbody tr th {\n",
       "        vertical-align: top;\n",
       "    }\n",
       "\n",
       "    .dataframe thead th {\n",
       "        text-align: right;\n",
       "    }\n",
       "</style>\n",
       "<table border=\"1\" class=\"dataframe\">\n",
       "  <thead>\n",
       "    <tr style=\"text-align: right;\">\n",
       "      <th></th>\n",
       "      <th>count</th>\n",
       "      <th>mean</th>\n",
       "      <th>std</th>\n",
       "      <th>min</th>\n",
       "      <th>25%</th>\n",
       "      <th>50%</th>\n",
       "      <th>75%</th>\n",
       "      <th>max</th>\n",
       "    </tr>\n",
       "  </thead>\n",
       "  <tbody>\n",
       "    <tr>\n",
       "      <th>Impression</th>\n",
       "      <td>40.0000</td>\n",
       "      <td>101711.4491</td>\n",
       "      <td>20302.1579</td>\n",
       "      <td>45475.9430</td>\n",
       "      <td>85726.6903</td>\n",
       "      <td>99790.7011</td>\n",
       "      <td>115212.8165</td>\n",
       "      <td>147539.3363</td>\n",
       "    </tr>\n",
       "    <tr>\n",
       "      <th>Click</th>\n",
       "      <td>40.0000</td>\n",
       "      <td>5100.6574</td>\n",
       "      <td>1329.9855</td>\n",
       "      <td>2189.7532</td>\n",
       "      <td>4124.3041</td>\n",
       "      <td>5001.2206</td>\n",
       "      <td>5923.8036</td>\n",
       "      <td>7959.1251</td>\n",
       "    </tr>\n",
       "    <tr>\n",
       "      <th>Purchase</th>\n",
       "      <td>40.0000</td>\n",
       "      <td>550.8941</td>\n",
       "      <td>134.1082</td>\n",
       "      <td>267.0289</td>\n",
       "      <td>470.0955</td>\n",
       "      <td>531.2063</td>\n",
       "      <td>637.9571</td>\n",
       "      <td>801.7950</td>\n",
       "    </tr>\n",
       "    <tr>\n",
       "      <th>Earning</th>\n",
       "      <td>40.0000</td>\n",
       "      <td>1908.5683</td>\n",
       "      <td>302.9178</td>\n",
       "      <td>1253.9895</td>\n",
       "      <td>1685.8472</td>\n",
       "      <td>1975.1605</td>\n",
       "      <td>2119.8028</td>\n",
       "      <td>2497.2952</td>\n",
       "    </tr>\n",
       "  </tbody>\n",
       "</table>\n",
       "</div>"
      ],
      "text/plain": [
       "             count        mean        std        min        25%        50%  \\\n",
       "Impression 40.0000 101711.4491 20302.1579 45475.9430 85726.6903 99790.7011   \n",
       "Click      40.0000   5100.6574  1329.9855  2189.7532  4124.3041  5001.2206   \n",
       "Purchase   40.0000    550.8941   134.1082   267.0289   470.0955   531.2063   \n",
       "Earning    40.0000   1908.5683   302.9178  1253.9895  1685.8472  1975.1605   \n",
       "\n",
       "                   75%         max  \n",
       "Impression 115212.8165 147539.3363  \n",
       "Click        5923.8036   7959.1251  \n",
       "Purchase      637.9571    801.7950  \n",
       "Earning      2119.8028   2497.2952  "
      ]
     },
     "execution_count": 4,
     "metadata": {},
     "output_type": "execute_result"
    }
   ],
   "source": [
    "ControlStats=Control_df.describe().T\n",
    "ControlStats"
   ]
  },
  {
   "cell_type": "code",
   "execution_count": 5,
   "metadata": {},
   "outputs": [
    {
     "data": {
      "text/html": [
       "<div>\n",
       "<style scoped>\n",
       "    .dataframe tbody tr th:only-of-type {\n",
       "        vertical-align: middle;\n",
       "    }\n",
       "\n",
       "    .dataframe tbody tr th {\n",
       "        vertical-align: top;\n",
       "    }\n",
       "\n",
       "    .dataframe thead th {\n",
       "        text-align: right;\n",
       "    }\n",
       "</style>\n",
       "<table border=\"1\" class=\"dataframe\">\n",
       "  <thead>\n",
       "    <tr style=\"text-align: right;\">\n",
       "      <th></th>\n",
       "      <th>count</th>\n",
       "      <th>mean</th>\n",
       "      <th>std</th>\n",
       "      <th>min</th>\n",
       "      <th>25%</th>\n",
       "      <th>50%</th>\n",
       "      <th>75%</th>\n",
       "      <th>max</th>\n",
       "    </tr>\n",
       "  </thead>\n",
       "  <tbody>\n",
       "    <tr>\n",
       "      <th>Impression</th>\n",
       "      <td>40.0000</td>\n",
       "      <td>120512.4118</td>\n",
       "      <td>18807.4487</td>\n",
       "      <td>79033.8349</td>\n",
       "      <td>112691.9708</td>\n",
       "      <td>119291.3008</td>\n",
       "      <td>132050.5789</td>\n",
       "      <td>158605.9205</td>\n",
       "    </tr>\n",
       "    <tr>\n",
       "      <th>Click</th>\n",
       "      <td>40.0000</td>\n",
       "      <td>3967.5498</td>\n",
       "      <td>923.0951</td>\n",
       "      <td>1836.6299</td>\n",
       "      <td>3376.8190</td>\n",
       "      <td>3931.3598</td>\n",
       "      <td>4660.4979</td>\n",
       "      <td>6019.6951</td>\n",
       "    </tr>\n",
       "    <tr>\n",
       "      <th>Purchase</th>\n",
       "      <td>40.0000</td>\n",
       "      <td>582.1061</td>\n",
       "      <td>161.1525</td>\n",
       "      <td>311.6295</td>\n",
       "      <td>444.6268</td>\n",
       "      <td>551.3557</td>\n",
       "      <td>699.8624</td>\n",
       "      <td>889.9105</td>\n",
       "    </tr>\n",
       "    <tr>\n",
       "      <th>Earning</th>\n",
       "      <td>40.0000</td>\n",
       "      <td>2514.8907</td>\n",
       "      <td>282.7309</td>\n",
       "      <td>1939.6112</td>\n",
       "      <td>2280.5374</td>\n",
       "      <td>2544.6661</td>\n",
       "      <td>2761.5454</td>\n",
       "      <td>3171.4897</td>\n",
       "    </tr>\n",
       "  </tbody>\n",
       "</table>\n",
       "</div>"
      ],
      "text/plain": [
       "             count        mean        std        min         25%         50%  \\\n",
       "Impression 40.0000 120512.4118 18807.4487 79033.8349 112691.9708 119291.3008   \n",
       "Click      40.0000   3967.5498   923.0951  1836.6299   3376.8190   3931.3598   \n",
       "Purchase   40.0000    582.1061   161.1525   311.6295    444.6268    551.3557   \n",
       "Earning    40.0000   2514.8907   282.7309  1939.6112   2280.5374   2544.6661   \n",
       "\n",
       "                   75%         max  \n",
       "Impression 132050.5789 158605.9205  \n",
       "Click        4660.4979   6019.6951  \n",
       "Purchase      699.8624    889.9105  \n",
       "Earning      2761.5454   3171.4897  "
      ]
     },
     "execution_count": 5,
     "metadata": {},
     "output_type": "execute_result"
    }
   ],
   "source": [
    "TestStats=Test_df.describe().T\n",
    "TestStats"
   ]
  },
  {
   "cell_type": "code",
   "execution_count": 6,
   "metadata": {},
   "outputs": [
    {
     "data": {
      "text/html": [
       "<div>\n",
       "<style scoped>\n",
       "    .dataframe tbody tr th:only-of-type {\n",
       "        vertical-align: middle;\n",
       "    }\n",
       "\n",
       "    .dataframe tbody tr th {\n",
       "        vertical-align: top;\n",
       "    }\n",
       "\n",
       "    .dataframe thead th {\n",
       "        text-align: right;\n",
       "    }\n",
       "</style>\n",
       "<table border=\"1\" class=\"dataframe\">\n",
       "  <thead>\n",
       "    <tr style=\"text-align: right;\">\n",
       "      <th></th>\n",
       "      <th>ControlGroupMean</th>\n",
       "      <th>TestGroupMean</th>\n",
       "    </tr>\n",
       "  </thead>\n",
       "  <tbody>\n",
       "    <tr>\n",
       "      <th>Impression</th>\n",
       "      <td>101711.4491</td>\n",
       "      <td>120512.4118</td>\n",
       "    </tr>\n",
       "    <tr>\n",
       "      <th>Click</th>\n",
       "      <td>5100.6574</td>\n",
       "      <td>3967.5498</td>\n",
       "    </tr>\n",
       "    <tr>\n",
       "      <th>Purchase</th>\n",
       "      <td>550.8941</td>\n",
       "      <td>582.1061</td>\n",
       "    </tr>\n",
       "    <tr>\n",
       "      <th>Earning</th>\n",
       "      <td>1908.5683</td>\n",
       "      <td>2514.8907</td>\n",
       "    </tr>\n",
       "  </tbody>\n",
       "</table>\n",
       "</div>"
      ],
      "text/plain": [
       "            ControlGroupMean  TestGroupMean\n",
       "Impression       101711.4491    120512.4118\n",
       "Click              5100.6574      3967.5498\n",
       "Purchase            550.8941       582.1061\n",
       "Earning            1908.5683      2514.8907"
      ]
     },
     "execution_count": 6,
     "metadata": {},
     "output_type": "execute_result"
    }
   ],
   "source": [
    "summary_df=pd.concat([ControlStats[\"mean\"],TestStats[\"mean\"]],axis=1)\n",
    "summary_df.columns=[\"ControlGroupMean\",\"TestGroupMean\"]\n",
    "summary_df"
   ]
  },
  {
   "cell_type": "markdown",
   "metadata": {},
   "source": [
    "* Control and Test Groups consist of 40 rows and 4 columns each. There is no Na/NaN values.\n",
    "* The impression average of the Control group is less than that of the Test group. However, the difference between the minimum and maximum values ​​of the Control group is greater than that of the Test group. Here, it can be commented that the variance value of the Control group is higher.\n",
    "* While the number of impression clicks in the Control group is approximately 20 times (19.43), it is 30 times (30.37) in the Test group.\n",
    "* While the average click in the Control group is 5100 clicks, there are 3967 clicks in the Test group. Although the average click in the Test group is lower, an average of 32 more purchases and an average of approximately 600 more earnings are achieved.\n",
    "* While the number of clicks per impression is 187.6 in the Control group, it is 207 in the Test group.\n",
    "* Average purchase and average earnings per click are 9.27-2.67 for the Control group and 6.82-1.58 for the Test group.<br>\n",
    "\n",
    "In short: The test group's results do not look good compared to the control group. \n",
    "\n",
    "However, it is of course necessary to continue the calculations to see if there is a statistical superiority between the test and control groups."
   ]
  },
  {
   "cell_type": "markdown",
   "metadata": {},
   "source": [
    "##### Confidence Intervals"
   ]
  },
  {
   "cell_type": "code",
   "execution_count": 7,
   "metadata": {},
   "outputs": [
    {
     "data": {
      "text/plain": [
       "(530.5670224874668, 633.6451708094685)"
      ]
     },
     "execution_count": 7,
     "metadata": {},
     "output_type": "execute_result"
    }
   ],
   "source": [
    "sms.DescrStatsW(Test_df[\"Purchase\"]).tconfint_mean()"
   ]
  },
  {
   "cell_type": "code",
   "execution_count": 8,
   "metadata": {},
   "outputs": [
    {
     "data": {
      "text/plain": [
       "(508.00417525045305, 593.7839422900101)"
      ]
     },
     "execution_count": 8,
     "metadata": {},
     "output_type": "execute_result"
    }
   ],
   "source": [
    "sms.DescrStatsW(Control_df[\"Purchase\"]).tconfint_mean()"
   ]
  },
  {
   "cell_type": "markdown",
   "metadata": {},
   "source": [
    "The confidence interval for the purchase data of the test group is between 530.57 and 633.65, while it is between 508.00 and 593.78 in the control group. In other words, 95 percent of the purchase averages in the test group are in this range.<br>\n",
    "\n",
    "The difference between the confidence interval of the test group is 103, while this interval is 85 for the control group. In addition, the minimum confidence value and the maximum confidence value are higher than those of the control group.<br>\n",
    "\n",
    "However, the values ​​are not completely different from each other."
   ]
  },
  {
   "cell_type": "markdown",
   "metadata": {},
   "source": [
    "#### Correlation"
   ]
  },
  {
   "cell_type": "code",
   "execution_count": 9,
   "metadata": {},
   "outputs": [],
   "source": [
    "def Correlation(dataframe,target):\n",
    "    #dataframe=input(\"dataframe adını giriniz\")\n",
    "    #target=input(\"Lütfen Sütun ismini giriniz\")\n",
    "    Other_Columns=dataframe.drop(target,axis=1).columns\n",
    "    correlations=[dataframe[target].corr(dataframe[col]) for col in Other_Columns]\n",
    "    for col,corr in zip(Other_Columns,correlations):\n",
    "        print(f\"{col} correlation with {target}:{corr}\")\n",
    "        plt.figure(figsize=(6,4))\n",
    "        sns.scatterplot(data=dataframe,x=target,y=col)\n",
    "        plt.title(f'{target} vs {col}')\n",
    "        \n",
    "        "
   ]
  },
  {
   "cell_type": "code",
   "execution_count": 10,
   "metadata": {},
   "outputs": [
    {
     "name": "stdout",
     "output_type": "stream",
     "text": [
      "Impression correlation with Purchase:0.21457493332510497\n",
      "Click correlation with Purchase:0.05739746000254058\n",
      "Earning correlation with Purchase:0.061728454532799085\n"
     ]
    },
    {
     "data": {
      "image/png": "[encoded data removed]",
      "text/plain": [
       "<Figure size 600x400 with 1 Axes>"
      ]
     },
     "metadata": {},
     "output_type": "display_data"
    },
    {
     "data": {
      "image/png": "[encoded data removed]",
      "text/plain": [
       "<Figure size 600x400 with 1 Axes>"
      ]
     },
     "metadata": {},
     "output_type": "display_data"
    },
    {
     "data": {
      "image/png": "[encoded data removed]",
      "text/plain": [
       "<Figure size 600x400 with 1 Axes>"
      ]
     },
     "metadata": {},
     "output_type": "display_data"
    }
   ],
   "source": [
    "Correlation(Control_df,\"Purchase\")"
   ]
  },
  {
   "cell_type": "markdown",
   "metadata": {},
   "source": [
    "When we look at the correlation results in the Control Group, we can see that no parameter has a strong relationship with Sales figures."
   ]
  },
  {
   "cell_type": "code",
   "execution_count": 11,
   "metadata": {},
   "outputs": [
    {
     "name": "stdout",
     "output_type": "stream",
     "text": [
      "Impression correlation with Purchase:0.13779572364901418\n",
      "Click correlation with Purchase:-0.07441443787151679\n",
      "Earning correlation with Purchase:0.10248095262969038\n"
     ]
    },
    {
     "data": {
      "image/png": "[encoded data removed]",
      "text/plain": [
       "<Figure size 600x400 with 1 Axes>"
      ]
     },
     "metadata": {},
     "output_type": "display_data"
    },
    {
     "data": {
      "image/png": "[encoded data removed]",
      "text/plain": [
       "<Figure size 600x400 with 1 Axes>"
      ]
     },
     "metadata": {},
     "output_type": "display_data"
    },
    {
     "data": {
      "image/png": "[encoded data removed]",
      "text/plain": [
       "<Figure size 600x400 with 1 Axes>"
      ]
     },
     "metadata": {},
     "output_type": "display_data"
    }
   ],
   "source": [
    "Correlation(Test_df,\"Purchase\")"
   ]
  },
  {
   "cell_type": "markdown",
   "metadata": {},
   "source": [
    "There is also no strong correlation between the Sales figures of the Test Group and Other parameters."
   ]
  },
  {
   "cell_type": "markdown",
   "metadata": {},
   "source": [
    "#### Conversion rate to sales and earnings per sale calculations"
   ]
  },
  {
   "cell_type": "markdown",
   "metadata": {},
   "source": [
    "Here, It needed to be made some calculations to understand which of the two methods is more efficient.\n",
    "\n",
    "For instance, while our focus data is \"Purchase\", how many of the Clicks made by customers resulted in Sales? Or how much Earning was made from each Purchase? \n",
    "* The EarningPerSale value shows how much income was earned for each purchase. \n",
    "* The ClickToSale rate shows how many of each click resulted in a purchase."
   ]
  },
  {
   "cell_type": "code",
   "execution_count": 12,
   "metadata": {},
   "outputs": [],
   "source": [
    "def Rates_of_Purchase(df):\n",
    "    df[\"ClickToSaleRate\"]=(df[\"Purchase\"]/df[\"Click\"])*100\n",
    "    df[\"EarningPerSale\"]=(df[\"Earning\"]/df[\"Purchase\"])*100\n",
    "    return df\n"
   ]
  },
  {
   "cell_type": "code",
   "execution_count": 13,
   "metadata": {},
   "outputs": [
    {
     "data": {
      "text/html": [
       "<div>\n",
       "<style scoped>\n",
       "    .dataframe tbody tr th:only-of-type {\n",
       "        vertical-align: middle;\n",
       "    }\n",
       "\n",
       "    .dataframe tbody tr th {\n",
       "        vertical-align: top;\n",
       "    }\n",
       "\n",
       "    .dataframe thead th {\n",
       "        text-align: right;\n",
       "    }\n",
       "</style>\n",
       "<table border=\"1\" class=\"dataframe\">\n",
       "  <thead>\n",
       "    <tr style=\"text-align: right;\">\n",
       "      <th></th>\n",
       "      <th>Impression</th>\n",
       "      <th>Click</th>\n",
       "      <th>Purchase</th>\n",
       "      <th>Earning</th>\n",
       "      <th>ClickToSaleRate</th>\n",
       "      <th>EarningPerSale</th>\n",
       "    </tr>\n",
       "  </thead>\n",
       "  <tbody>\n",
       "    <tr>\n",
       "      <th>0</th>\n",
       "      <td>82529.4593</td>\n",
       "      <td>6090.0773</td>\n",
       "      <td>665.2113</td>\n",
       "      <td>2311.2771</td>\n",
       "      <td>10.9229</td>\n",
       "      <td>347.4501</td>\n",
       "    </tr>\n",
       "    <tr>\n",
       "      <th>1</th>\n",
       "      <td>98050.4519</td>\n",
       "      <td>3382.8618</td>\n",
       "      <td>315.0849</td>\n",
       "      <td>1742.8069</td>\n",
       "      <td>9.3142</td>\n",
       "      <td>553.1229</td>\n",
       "    </tr>\n",
       "    <tr>\n",
       "      <th>2</th>\n",
       "      <td>82696.0235</td>\n",
       "      <td>4167.9657</td>\n",
       "      <td>458.0837</td>\n",
       "      <td>1797.8274</td>\n",
       "      <td>10.9906</td>\n",
       "      <td>392.4670</td>\n",
       "    </tr>\n",
       "    <tr>\n",
       "      <th>3</th>\n",
       "      <td>109914.4004</td>\n",
       "      <td>4910.8822</td>\n",
       "      <td>487.0908</td>\n",
       "      <td>1696.2292</td>\n",
       "      <td>9.9186</td>\n",
       "      <td>348.2368</td>\n",
       "    </tr>\n",
       "    <tr>\n",
       "      <th>4</th>\n",
       "      <td>108457.7626</td>\n",
       "      <td>5987.6558</td>\n",
       "      <td>441.0340</td>\n",
       "      <td>1543.7202</td>\n",
       "      <td>7.3657</td>\n",
       "      <td>350.0229</td>\n",
       "    </tr>\n",
       "  </tbody>\n",
       "</table>\n",
       "</div>"
      ],
      "text/plain": [
       "   Impression     Click  Purchase   Earning  ClickToSaleRate  EarningPerSale\n",
       "0  82529.4593 6090.0773  665.2113 2311.2771          10.9229        347.4501\n",
       "1  98050.4519 3382.8618  315.0849 1742.8069           9.3142        553.1229\n",
       "2  82696.0235 4167.9657  458.0837 1797.8274          10.9906        392.4670\n",
       "3 109914.4004 4910.8822  487.0908 1696.2292           9.9186        348.2368\n",
       "4 108457.7626 5987.6558  441.0340 1543.7202           7.3657        350.0229"
      ]
     },
     "execution_count": 13,
     "metadata": {},
     "output_type": "execute_result"
    }
   ],
   "source": [
    "Rates_of_Purchase(Control_df)\n",
    "Control_df.head()"
   ]
  },
  {
   "cell_type": "code",
   "execution_count": 14,
   "metadata": {},
   "outputs": [
    {
     "data": {
      "text/html": [
       "<div>\n",
       "<style scoped>\n",
       "    .dataframe tbody tr th:only-of-type {\n",
       "        vertical-align: middle;\n",
       "    }\n",
       "\n",
       "    .dataframe tbody tr th {\n",
       "        vertical-align: top;\n",
       "    }\n",
       "\n",
       "    .dataframe thead th {\n",
       "        text-align: right;\n",
       "    }\n",
       "</style>\n",
       "<table border=\"1\" class=\"dataframe\">\n",
       "  <thead>\n",
       "    <tr style=\"text-align: right;\">\n",
       "      <th></th>\n",
       "      <th>Impression</th>\n",
       "      <th>Click</th>\n",
       "      <th>Purchase</th>\n",
       "      <th>Earning</th>\n",
       "      <th>ClickToSaleRate</th>\n",
       "      <th>EarningPerSale</th>\n",
       "    </tr>\n",
       "  </thead>\n",
       "  <tbody>\n",
       "    <tr>\n",
       "      <th>0</th>\n",
       "      <td>120103.5038</td>\n",
       "      <td>3216.5480</td>\n",
       "      <td>702.1603</td>\n",
       "      <td>1939.6112</td>\n",
       "      <td>21.8296</td>\n",
       "      <td>276.2348</td>\n",
       "    </tr>\n",
       "    <tr>\n",
       "      <th>1</th>\n",
       "      <td>134775.9434</td>\n",
       "      <td>3635.0824</td>\n",
       "      <td>834.0543</td>\n",
       "      <td>2929.4058</td>\n",
       "      <td>22.9446</td>\n",
       "      <td>351.2248</td>\n",
       "    </tr>\n",
       "    <tr>\n",
       "      <th>2</th>\n",
       "      <td>107806.6208</td>\n",
       "      <td>3057.1436</td>\n",
       "      <td>422.9343</td>\n",
       "      <td>2526.2449</td>\n",
       "      <td>13.8343</td>\n",
       "      <td>597.3138</td>\n",
       "    </tr>\n",
       "    <tr>\n",
       "      <th>3</th>\n",
       "      <td>116445.2755</td>\n",
       "      <td>4650.4739</td>\n",
       "      <td>429.0335</td>\n",
       "      <td>2281.4286</td>\n",
       "      <td>9.2256</td>\n",
       "      <td>531.7600</td>\n",
       "    </tr>\n",
       "    <tr>\n",
       "      <th>4</th>\n",
       "      <td>145082.5168</td>\n",
       "      <td>5201.3877</td>\n",
       "      <td>749.8604</td>\n",
       "      <td>2781.6975</td>\n",
       "      <td>14.4165</td>\n",
       "      <td>370.9620</td>\n",
       "    </tr>\n",
       "  </tbody>\n",
       "</table>\n",
       "</div>"
      ],
      "text/plain": [
       "   Impression     Click  Purchase   Earning  ClickToSaleRate  EarningPerSale\n",
       "0 120103.5038 3216.5480  702.1603 1939.6112          21.8296        276.2348\n",
       "1 134775.9434 3635.0824  834.0543 2929.4058          22.9446        351.2248\n",
       "2 107806.6208 3057.1436  422.9343 2526.2449          13.8343        597.3138\n",
       "3 116445.2755 4650.4739  429.0335 2281.4286           9.2256        531.7600\n",
       "4 145082.5168 5201.3877  749.8604 2781.6975          14.4165        370.9620"
      ]
     },
     "execution_count": 14,
     "metadata": {},
     "output_type": "execute_result"
    }
   ],
   "source": [
    "Rates_of_Purchase(Test_df)\n",
    "Test_df.head()"
   ]
  },
  {
   "cell_type": "markdown",
   "metadata": {},
   "source": [
    "#### Step 3:\n",
    "**After the analysis process is completed, combine the control and test group data using the concat method.**"
   ]
  },
  {
   "cell_type": "markdown",
   "metadata": {},
   "source": [
    "_concat_ methodu için tüm dataya yeni bir isim atandıktan sonra köşeli parantez içine birleştirmek istenen dataframelerin isimleri yazılır.  <br>\n",
    "'ignore_index' değerini 'True' yapmazsak indexler tekrarlanır. \n",
    "After assigning a new name to all data frame(df), Old Dataframe names (Control_df,Test_df) could be written in the _concat_ method, as a list.<br> \n",
    "If we do not set the 'ignore_index' value to 'True', the indexes will be repeated."
   ]
  },
  {
   "cell_type": "markdown",
   "metadata": {},
   "source": [
    "A column named Group with categorical values ​​of \"Control\" and \"Test\" can be added to make future calculations easier so that it is clear which data belongs to which dataframe."
   ]
  },
  {
   "cell_type": "code",
   "execution_count": 15,
   "metadata": {},
   "outputs": [],
   "source": [
    "Control_df[\"Group\"]=\"Control\"\n",
    "Test_df[\"Group\"]=\"Test\"\n"
   ]
  },
  {
   "cell_type": "code",
   "execution_count": 16,
   "metadata": {},
   "outputs": [
    {
     "data": {
      "text/html": [
       "<div>\n",
       "<style scoped>\n",
       "    .dataframe tbody tr th:only-of-type {\n",
       "        vertical-align: middle;\n",
       "    }\n",
       "\n",
       "    .dataframe tbody tr th {\n",
       "        vertical-align: top;\n",
       "    }\n",
       "\n",
       "    .dataframe thead th {\n",
       "        text-align: right;\n",
       "    }\n",
       "</style>\n",
       "<table border=\"1\" class=\"dataframe\">\n",
       "  <thead>\n",
       "    <tr style=\"text-align: right;\">\n",
       "      <th></th>\n",
       "      <th>Impression</th>\n",
       "      <th>Click</th>\n",
       "      <th>Purchase</th>\n",
       "      <th>Earning</th>\n",
       "      <th>ClickToSaleRate</th>\n",
       "      <th>EarningPerSale</th>\n",
       "      <th>Group</th>\n",
       "    </tr>\n",
       "  </thead>\n",
       "  <tbody>\n",
       "    <tr>\n",
       "      <th>0</th>\n",
       "      <td>82529.4593</td>\n",
       "      <td>6090.0773</td>\n",
       "      <td>665.2113</td>\n",
       "      <td>2311.2771</td>\n",
       "      <td>10.9229</td>\n",
       "      <td>347.4501</td>\n",
       "      <td>Control</td>\n",
       "    </tr>\n",
       "    <tr>\n",
       "      <th>1</th>\n",
       "      <td>98050.4519</td>\n",
       "      <td>3382.8618</td>\n",
       "      <td>315.0849</td>\n",
       "      <td>1742.8069</td>\n",
       "      <td>9.3142</td>\n",
       "      <td>553.1229</td>\n",
       "      <td>Control</td>\n",
       "    </tr>\n",
       "    <tr>\n",
       "      <th>2</th>\n",
       "      <td>82696.0235</td>\n",
       "      <td>4167.9657</td>\n",
       "      <td>458.0837</td>\n",
       "      <td>1797.8274</td>\n",
       "      <td>10.9906</td>\n",
       "      <td>392.4670</td>\n",
       "      <td>Control</td>\n",
       "    </tr>\n",
       "    <tr>\n",
       "      <th>3</th>\n",
       "      <td>109914.4004</td>\n",
       "      <td>4910.8822</td>\n",
       "      <td>487.0908</td>\n",
       "      <td>1696.2292</td>\n",
       "      <td>9.9186</td>\n",
       "      <td>348.2368</td>\n",
       "      <td>Control</td>\n",
       "    </tr>\n",
       "    <tr>\n",
       "      <th>4</th>\n",
       "      <td>108457.7626</td>\n",
       "      <td>5987.6558</td>\n",
       "      <td>441.0340</td>\n",
       "      <td>1543.7202</td>\n",
       "      <td>7.3657</td>\n",
       "      <td>350.0229</td>\n",
       "      <td>Control</td>\n",
       "    </tr>\n",
       "  </tbody>\n",
       "</table>\n",
       "</div>"
      ],
      "text/plain": [
       "   Impression     Click  Purchase   Earning  ClickToSaleRate  EarningPerSale  \\\n",
       "0  82529.4593 6090.0773  665.2113 2311.2771          10.9229        347.4501   \n",
       "1  98050.4519 3382.8618  315.0849 1742.8069           9.3142        553.1229   \n",
       "2  82696.0235 4167.9657  458.0837 1797.8274          10.9906        392.4670   \n",
       "3 109914.4004 4910.8822  487.0908 1696.2292           9.9186        348.2368   \n",
       "4 108457.7626 5987.6558  441.0340 1543.7202           7.3657        350.0229   \n",
       "\n",
       "     Group  \n",
       "0  Control  \n",
       "1  Control  \n",
       "2  Control  \n",
       "3  Control  \n",
       "4  Control  "
      ]
     },
     "execution_count": 16,
     "metadata": {},
     "output_type": "execute_result"
    }
   ],
   "source": [
    "df=pd.concat([Control_df,Test_df], ignore_index=True)\n",
    "df.head()  "
   ]
  },
  {
   "cell_type": "code",
   "execution_count": 17,
   "metadata": {},
   "outputs": [
    {
     "data": {
      "text/plain": [
       "(80, 7)"
      ]
     },
     "execution_count": 17,
     "metadata": {},
     "output_type": "execute_result"
    }
   ],
   "source": [
    "df.shape"
   ]
  },
  {
   "cell_type": "code",
   "execution_count": 18,
   "metadata": {},
   "outputs": [
    {
     "data": {
      "text/html": [
       "<div>\n",
       "<style scoped>\n",
       "    .dataframe tbody tr th:only-of-type {\n",
       "        vertical-align: middle;\n",
       "    }\n",
       "\n",
       "    .dataframe tbody tr th {\n",
       "        vertical-align: top;\n",
       "    }\n",
       "\n",
       "    .dataframe thead th {\n",
       "        text-align: right;\n",
       "    }\n",
       "</style>\n",
       "<table border=\"1\" class=\"dataframe\">\n",
       "  <thead>\n",
       "    <tr style=\"text-align: right;\">\n",
       "      <th></th>\n",
       "      <th>count</th>\n",
       "      <th>mean</th>\n",
       "      <th>std</th>\n",
       "      <th>min</th>\n",
       "      <th>25%</th>\n",
       "      <th>50%</th>\n",
       "      <th>75%</th>\n",
       "      <th>max</th>\n",
       "    </tr>\n",
       "  </thead>\n",
       "  <tbody>\n",
       "    <tr>\n",
       "      <th>Impression</th>\n",
       "      <td>80.0000</td>\n",
       "      <td>111111.9304</td>\n",
       "      <td>21623.8077</td>\n",
       "      <td>45475.9430</td>\n",
       "      <td>95063.8606</td>\n",
       "      <td>114037.0350</td>\n",
       "      <td>124138.6524</td>\n",
       "      <td>158605.9205</td>\n",
       "    </tr>\n",
       "    <tr>\n",
       "      <th>Click</th>\n",
       "      <td>80.0000</td>\n",
       "      <td>4534.1036</td>\n",
       "      <td>1272.3761</td>\n",
       "      <td>1836.6299</td>\n",
       "      <td>3632.8918</td>\n",
       "      <td>4321.6028</td>\n",
       "      <td>5272.6161</td>\n",
       "      <td>7959.1251</td>\n",
       "    </tr>\n",
       "    <tr>\n",
       "      <th>Purchase</th>\n",
       "      <td>80.0000</td>\n",
       "      <td>566.5001</td>\n",
       "      <td>148.1418</td>\n",
       "      <td>267.0289</td>\n",
       "      <td>458.1379</td>\n",
       "      <td>532.1251</td>\n",
       "      <td>679.5576</td>\n",
       "      <td>889.9105</td>\n",
       "    </tr>\n",
       "    <tr>\n",
       "      <th>Earning</th>\n",
       "      <td>80.0000</td>\n",
       "      <td>2211.7295</td>\n",
       "      <td>421.7006</td>\n",
       "      <td>1253.9895</td>\n",
       "      <td>1945.7132</td>\n",
       "      <td>2205.5363</td>\n",
       "      <td>2541.3775</td>\n",
       "      <td>3171.4897</td>\n",
       "    </tr>\n",
       "    <tr>\n",
       "      <th>ClickToSaleRate</th>\n",
       "      <td>80.0000</td>\n",
       "      <td>13.6246</td>\n",
       "      <td>6.1073</td>\n",
       "      <td>4.0403</td>\n",
       "      <td>9.4726</td>\n",
       "      <td>12.9103</td>\n",
       "      <td>15.8456</td>\n",
       "      <td>44.7886</td>\n",
       "    </tr>\n",
       "    <tr>\n",
       "      <th>EarningPerSale</th>\n",
       "      <td>80.0000</td>\n",
       "      <td>417.0512</td>\n",
       "      <td>133.7823</td>\n",
       "      <td>182.6339</td>\n",
       "      <td>316.8499</td>\n",
       "      <td>397.6086</td>\n",
       "      <td>517.4042</td>\n",
       "      <td>818.6783</td>\n",
       "    </tr>\n",
       "  </tbody>\n",
       "</table>\n",
       "</div>"
      ],
      "text/plain": [
       "                  count        mean        std        min        25%  \\\n",
       "Impression      80.0000 111111.9304 21623.8077 45475.9430 95063.8606   \n",
       "Click           80.0000   4534.1036  1272.3761  1836.6299  3632.8918   \n",
       "Purchase        80.0000    566.5001   148.1418   267.0289   458.1379   \n",
       "Earning         80.0000   2211.7295   421.7006  1253.9895  1945.7132   \n",
       "ClickToSaleRate 80.0000     13.6246     6.1073     4.0403     9.4726   \n",
       "EarningPerSale  80.0000    417.0512   133.7823   182.6339   316.8499   \n",
       "\n",
       "                        50%         75%         max  \n",
       "Impression      114037.0350 124138.6524 158605.9205  \n",
       "Click             4321.6028   5272.6161   7959.1251  \n",
       "Purchase           532.1251    679.5576    889.9105  \n",
       "Earning           2205.5363   2541.3775   3171.4897  \n",
       "ClickToSaleRate     12.9103     15.8456     44.7886  \n",
       "EarningPerSale     397.6086    517.4042    818.6783  "
      ]
     },
     "execution_count": 18,
     "metadata": {},
     "output_type": "execute_result"
    }
   ],
   "source": [
    "df.describe().T"
   ]
  },
  {
   "cell_type": "code",
   "execution_count": 19,
   "metadata": {},
   "outputs": [
    {
     "data": {
      "text/html": [
       "<div>\n",
       "<style scoped>\n",
       "    .dataframe tbody tr th:only-of-type {\n",
       "        vertical-align: middle;\n",
       "    }\n",
       "\n",
       "    .dataframe tbody tr th {\n",
       "        vertical-align: top;\n",
       "    }\n",
       "\n",
       "    .dataframe thead th {\n",
       "        text-align: right;\n",
       "    }\n",
       "</style>\n",
       "<table border=\"1\" class=\"dataframe\">\n",
       "  <thead>\n",
       "    <tr style=\"text-align: right;\">\n",
       "      <th></th>\n",
       "      <th>Impression</th>\n",
       "      <th>Click</th>\n",
       "      <th>Purchase</th>\n",
       "      <th>Earning</th>\n",
       "      <th>ClickToSaleRate</th>\n",
       "      <th>EarningPerSale</th>\n",
       "      <th>Group</th>\n",
       "    </tr>\n",
       "  </thead>\n",
       "  <tbody>\n",
       "    <tr>\n",
       "      <th>0</th>\n",
       "      <td>82529.4593</td>\n",
       "      <td>6090.0773</td>\n",
       "      <td>665.2113</td>\n",
       "      <td>2311.2771</td>\n",
       "      <td>10.9229</td>\n",
       "      <td>347.4501</td>\n",
       "      <td>Control</td>\n",
       "    </tr>\n",
       "    <tr>\n",
       "      <th>1</th>\n",
       "      <td>98050.4519</td>\n",
       "      <td>3382.8618</td>\n",
       "      <td>315.0849</td>\n",
       "      <td>1742.8069</td>\n",
       "      <td>9.3142</td>\n",
       "      <td>553.1229</td>\n",
       "      <td>Control</td>\n",
       "    </tr>\n",
       "    <tr>\n",
       "      <th>2</th>\n",
       "      <td>82696.0235</td>\n",
       "      <td>4167.9657</td>\n",
       "      <td>458.0837</td>\n",
       "      <td>1797.8274</td>\n",
       "      <td>10.9906</td>\n",
       "      <td>392.4670</td>\n",
       "      <td>Control</td>\n",
       "    </tr>\n",
       "    <tr>\n",
       "      <th>3</th>\n",
       "      <td>109914.4004</td>\n",
       "      <td>4910.8822</td>\n",
       "      <td>487.0908</td>\n",
       "      <td>1696.2292</td>\n",
       "      <td>9.9186</td>\n",
       "      <td>348.2368</td>\n",
       "      <td>Control</td>\n",
       "    </tr>\n",
       "    <tr>\n",
       "      <th>4</th>\n",
       "      <td>108457.7626</td>\n",
       "      <td>5987.6558</td>\n",
       "      <td>441.0340</td>\n",
       "      <td>1543.7202</td>\n",
       "      <td>7.3657</td>\n",
       "      <td>350.0229</td>\n",
       "      <td>Control</td>\n",
       "    </tr>\n",
       "  </tbody>\n",
       "</table>\n",
       "</div>"
      ],
      "text/plain": [
       "   Impression     Click  Purchase   Earning  ClickToSaleRate  EarningPerSale  \\\n",
       "0  82529.4593 6090.0773  665.2113 2311.2771          10.9229        347.4501   \n",
       "1  98050.4519 3382.8618  315.0849 1742.8069           9.3142        553.1229   \n",
       "2  82696.0235 4167.9657  458.0837 1797.8274          10.9906        392.4670   \n",
       "3 109914.4004 4910.8822  487.0908 1696.2292           9.9186        348.2368   \n",
       "4 108457.7626 5987.6558  441.0340 1543.7202           7.3657        350.0229   \n",
       "\n",
       "     Group  \n",
       "0  Control  \n",
       "1  Control  \n",
       "2  Control  \n",
       "3  Control  \n",
       "4  Control  "
      ]
     },
     "execution_count": 19,
     "metadata": {},
     "output_type": "execute_result"
    }
   ],
   "source": [
    "df.head()"
   ]
  },
  {
   "cell_type": "markdown",
   "metadata": {},
   "source": [
    "#### Task 2: Define Hypothesis for A/B Testing\n",
    "##### Step 1:\n",
    "* Generate hypotheses as follows:** <br>\n",
    "- H0 (Null Hypothesis): There is no significant difference between the two groups. (M1 = M2)\n",
    "- H1 (Alternative Hypothesis): There is a significant difference between the two groups. (M1 ≠ M2)"
   ]
  },
  {
   "cell_type": "markdown",
   "metadata": {},
   "source": [
    "H0:M1=M2 --> There is no significant difference between the Control group and the Test group in terms of Purchase averages.<br>\n",
    "H1:M1!=M2--> There is significant difference between the Control group and the Test group in terms of Purchase averages."
   ]
  },
  {
   "cell_type": "markdown",
   "metadata": {},
   "source": [
    "#### Step 2:\n",
    "* Calculate and compare the purchase averages for the control and test groups."
   ]
  },
  {
   "cell_type": "code",
   "execution_count": 20,
   "metadata": {},
   "outputs": [
    {
     "data": {
      "text/plain": [
       "(550.8940587702316, 582.1060966484677)"
      ]
     },
     "execution_count": 20,
     "metadata": {},
     "output_type": "execute_result"
    }
   ],
   "source": [
    "control_mean = Control_df[\"Purchase\"].mean()\n",
    "test_mean = Test_df[\"Purchase\"].mean()\n",
    "control_mean, test_mean"
   ]
  },
  {
   "cell_type": "code",
   "execution_count": 21,
   "metadata": {},
   "outputs": [
    {
     "data": {
      "text/html": [
       "<div>\n",
       "<style scoped>\n",
       "    .dataframe tbody tr th:only-of-type {\n",
       "        vertical-align: middle;\n",
       "    }\n",
       "\n",
       "    .dataframe tbody tr th {\n",
       "        vertical-align: top;\n",
       "    }\n",
       "\n",
       "    .dataframe thead th {\n",
       "        text-align: right;\n",
       "    }\n",
       "</style>\n",
       "<table border=\"1\" class=\"dataframe\">\n",
       "  <thead>\n",
       "    <tr style=\"text-align: right;\">\n",
       "      <th></th>\n",
       "      <th>Purchase</th>\n",
       "      <th>ClickToSaleRate</th>\n",
       "      <th>EarningPerSale</th>\n",
       "    </tr>\n",
       "    <tr>\n",
       "      <th>Group</th>\n",
       "      <th></th>\n",
       "      <th></th>\n",
       "      <th></th>\n",
       "    </tr>\n",
       "  </thead>\n",
       "  <tbody>\n",
       "    <tr>\n",
       "      <th>Control</th>\n",
       "      <td>550.8941</td>\n",
       "      <td>11.5926</td>\n",
       "      <td>368.8075</td>\n",
       "    </tr>\n",
       "    <tr>\n",
       "      <th>Test</th>\n",
       "      <td>582.1061</td>\n",
       "      <td>15.6566</td>\n",
       "      <td>465.2949</td>\n",
       "    </tr>\n",
       "  </tbody>\n",
       "</table>\n",
       "</div>"
      ],
      "text/plain": [
       "         Purchase  ClickToSaleRate  EarningPerSale\n",
       "Group                                             \n",
       "Control  550.8941          11.5926        368.8075\n",
       "Test     582.1061          15.6566        465.2949"
      ]
     },
     "execution_count": 21,
     "metadata": {},
     "output_type": "execute_result"
    }
   ],
   "source": [
    "df.groupby(\"Group\").agg({\"Purchase\":\"mean\",\n",
    "                        \"ClickToSaleRate\":\"mean\",\n",
    "                        \"EarningPerSale\":\"mean\"\n",
    "                                                })"
   ]
  },
  {
   "cell_type": "markdown",
   "metadata": {},
   "source": [
    "It can be seen that the Test Group has a higher purchase average than the Control Group. \n",
    "The click-to-sale conversion rate for the Test Group is higher than the Control Group. \n",
    "The income from sales is higher in the Test Group.\n",
    "\n"
   ]
  },
  {
   "cell_type": "markdown",
   "metadata": {},
   "source": [
    "#### Task 3: Hypothesis Testing and Assumption Checks\n",
    "##### Step 1:\n",
    "**Before starting the hypothesis test, check the following assumptions:** <br>\n",
    "**1. Normality Test**\n",
    "* According to the test result, evaluate whether the control and test groups comply with the normality assumption. <br>\n"
   ]
  },
  {
   "cell_type": "markdown",
   "metadata": {},
   "source": [
    "There are 2 different options to understand the normal distribution. <br>\n",
    "* Shapiro-Wilk test (shapiro())\n",
    "* Kolmogorov-Smirnov test (kstest()) <br>\n",
    "Here, the process will be performed using shapiro, the other could have been used as well.<br>\n",
    "\n",
    "Our hypotheses: <br>\n",
    "* H0: Normality is provided in the Purchase data distribution of the Test Group and the Control Group.\n",
    "* H1: Normality is not provided in the Purchase data distribution of the Test Group and the Control Group."
   ]
  },
  {
   "cell_type": "code",
   "execution_count": 22,
   "metadata": {},
   "outputs": [
    {
     "name": "stdout",
     "output_type": "stream",
     "text": [
      "Test Stat=0.9589, p-value=0.1541 p-value is greater than 0,05 that's why H0 hypotesis is not be rejected.\n"
     ]
    }
   ],
   "source": [
    "test_stat, pvalue=shapiro(df.loc[df[\"Group\"].dropna()==\"Test\",\"Purchase\"])\n",
    "if pvalue<0.05:\n",
    "    print(\"Test Stat=%.4f, p-value=%.4f\" %(test_stat,pvalue),(\"pvalue is less than 0,05,so H0 is rejected\") )\n",
    "else:\n",
    "    print(\"Test Stat=%.4f, p-value=%.4f\" %(test_stat,pvalue), (\"p-value is greater than 0,05 that's why H0 hypotesis is not be rejected.\"))"
   ]
  },
  {
   "cell_type": "code",
   "execution_count": 23,
   "metadata": {},
   "outputs": [
    {
     "name": "stdout",
     "output_type": "stream",
     "text": [
      "Test Stat=0.9773, p-value=0.5891 p-value is greater than 0,05 that's why H0 hypotesis is not be rejected.\n"
     ]
    }
   ],
   "source": [
    "test_stat, pvalue=shapiro(df.loc[df[\"Group\"].dropna()==\"Control\",\"Purchase\"])\n",
    "if pvalue<0.05:\n",
    "    print(\"Test Stat=%.4f, p-value=%.4f\" %(test_stat,pvalue),(\"pvalue is less than 0,05,so H0 is rejected\") )\n",
    "else:\n",
    "    print(\"Test Stat=%.4f, p-value=%.4f\" %(test_stat,pvalue), (\"p-value is greater than 0,05 that's why H0 hypotesis is not be rejected.\"))"
   ]
  },
  {
   "cell_type": "markdown",
   "metadata": {},
   "source": [
    "**2. Variance Homogeneity Test**\n",
    "##### Step 1:\n",
    "* Evaluate the test results and comment on whether there is a variance difference between the groups."
   ]
  },
  {
   "cell_type": "markdown",
   "metadata": {},
   "source": [
    "After concluding that both groups comply with the normal distribution as a result of the normality test, we perform the variance homogeneity test.<br>\n",
    "\n",
    "\n",
    "For this test, the H0 and h1 hypotheses will be as follows: <br>\n",
    "H0: variances are homogeneous. <br>\n",
    "H0 variances are not homogeneous.<br>"
   ]
  },
  {
   "cell_type": "code",
   "execution_count": 24,
   "metadata": {},
   "outputs": [
    {
     "name": "stdout",
     "output_type": "stream",
     "text": [
      "Test Stat=2.6393, p-value=0.1083 p-value is greater than 0,05 that's why H0 hypotesis is not be rejected.\n"
     ]
    }
   ],
   "source": [
    "test_stat,pvalue=levene(df.loc[df[\"Group\"].dropna()==\"Control\",\"Purchase\"],\n",
    "                        (df.loc[df[\"Group\"].dropna()==\"Test\",\"Purchase\"]))\n",
    "if pvalue<0.05:\n",
    "    print(\"Test Stat=%.4f, p-value=%.4f\" %(test_stat,pvalue),(\"pvalue is less than 0,05,so H0 is rejected\") )\n",
    "else:\n",
    "    print(\"Test Stat=%.4f, p-value=%.4f\" %(test_stat,pvalue), (\"p-value is greater than 0,05 that's why H0 hypotesis is not be rejected.\"))\n"
   ]
  },
  {
   "cell_type": "markdown",
   "metadata": {},
   "source": [
    "Both Groups comply with Variance Homogeneity."
   ]
  },
  {
   "cell_type": "markdown",
   "metadata": {},
   "source": [
    "##### Step 2:\n",
    "* Select the appropriate statistical test based on the results of the normality and variance homogeneity tests."
   ]
  },
  {
   "cell_type": "markdown",
   "metadata": {},
   "source": [
    "If the necessary conditions for the assumptions of Normality and Variance Homogeneity are met, the independent two sample T test (parametric test) was applied. If not, the Mannwhitneyu test (non-parametric test) was applied."
   ]
  },
  {
   "cell_type": "markdown",
   "metadata": {},
   "source": [
    "##### Step 3:\n",
    "* Evaluate whether there is a significant difference between the purchase averages of the control and test groups by interpreting the p-value obtained as a result of the test you selected."
   ]
  },
  {
   "cell_type": "markdown",
   "metadata": {},
   "source": [
    "H0: There is no significant difference in terms of \"Purchase\" means between control and test groups\n",
    "\n",
    "H1: There is a significant difference in terms of \"Purchase\" means between control and test groups"
   ]
  },
  {
   "cell_type": "code",
   "execution_count": 25,
   "metadata": {},
   "outputs": [
    {
     "name": "stdout",
     "output_type": "stream",
     "text": [
      "Test Stat=-0.9416, p-value=0.3493 p-value is greater than 0,05 that's why H0 hypotesis is not be rejected.\n"
     ]
    }
   ],
   "source": [
    "test_stat,pvalue=ttest_ind(df.loc[df[\"Group\"].dropna()==\"Control\",\"Purchase\"],\n",
    "                        (df.loc[df[\"Group\"].dropna()==\"Test\",\"Purchase\"]),equal_var=True)\n",
    "if pvalue<0.05:\n",
    "    print(\"Test Stat=%.4f, p-value=%.4f\" %(test_stat,pvalue),(\"pvalue is less than 0,05,so H0 is rejected\") )\n",
    "else:\n",
    "    print(\"Test Stat=%.4f, p-value=%.4f\" %(test_stat,pvalue), (\"p-value is greater than 0,05 that's why H0 hypotesis is not be rejected.\"))\n"
   ]
  },
  {
   "cell_type": "markdown",
   "metadata": {},
   "source": [
    "If the conditions required for the assumptions of Normality and Variance Homogeneity were not met, then the Mannwhitneyu test (non-parametric test) would be applied. Although it is not normally necessary, let's add it here as an example:"
   ]
  },
  {
   "cell_type": "code",
   "execution_count": 26,
   "metadata": {},
   "outputs": [
    {
     "name": "stdout",
     "output_type": "stream",
     "text": [
      "Test Stat=723.0000, p-value=0.4617 p-value is greater than 0,05 that's why H0 hypotesis is not be rejected.\n"
     ]
    }
   ],
   "source": [
    "test_stat,pvalue=mannwhitneyu(df.loc[df[\"Group\"].dropna()==\"Control\",\"Purchase\"],\n",
    "                        (df.loc[df[\"Group\"].dropna()==\"Test\",\"Purchase\"]))\n",
    "if pvalue<0.05:\n",
    "    print(\"Test Stat=%.4f, p-value=%.4f\" %(test_stat,pvalue),(\"pvalue is less than 0,05,so H0 is rejected\") )\n",
    "else:\n",
    "    print(\"Test Stat=%.4f, p-value=%.4f\" %(test_stat,pvalue), (\"p-value is greater than 0,05 that's why H0 hypotesis is not be rejected.\"))\n"
   ]
  },
  {
   "cell_type": "markdown",
   "metadata": {},
   "source": [
    "**_Alternative Approach:_**\n",
    "Instead of writing normality and variance homogeneity tests separately, we could define a function to check assumptions more efficiently.\n",
    "\n",
    "Here is an example function:"
   ]
  },
  {
   "cell_type": "code",
   "execution_count": 27,
   "metadata": {},
   "outputs": [],
   "source": [
    "from scipy.stats import shapiro, levene\n",
    "\n",
    "def check_assumptions(group1, group2, alpha=0.05):\n",
    "    \"\"\"\n",
    "    Normality and Variance Homogeneity Tests for Two Groups.\n",
    "    \"\"\"\n",
    "    # Normality Test\n",
    "    stat1, p1 = shapiro(group1)\n",
    "    stat2, p2 = shapiro(group2)\n",
    "    \n",
    "    print(f\"Shapiro Test - Group1 p-value: {p1:.4f}\")\n",
    "    print(f\"Shapiro Test - Group2 p-value: {p2:.4f}\")\n",
    "    if p1 > alpha and p2 > alpha:\n",
    "        print(\"Both groups seem normally distributed. H0 hypotesis could not be rejected\")\n",
    "    else:\n",
    "        print(\"Normality assumption may not hold.\")\n",
    "\n",
    "    # Variance Homogeneity Test\n",
    "    stat_levene, p_levene = levene(group1, group2)\n",
    "    print(f\"Levene Test p-value: {p_levene:.4f}\")\n",
    "    if p_levene > alpha:\n",
    "        print(\"H0 hypotesis could not be rejected. So that variances are homogeneous.\")\n",
    "    else:\n",
    "        print(\"Variances are not homogeneous.\")"
   ]
  },
  {
   "cell_type": "code",
   "execution_count": 28,
   "metadata": {},
   "outputs": [
    {
     "name": "stdout",
     "output_type": "stream",
     "text": [
      "Shapiro Test - Group1 p-value: 0.5891\n",
      "Shapiro Test - Group2 p-value: 0.1541\n",
      "Both groups seem normally distributed. H0 hypotesis could not be rejected\n",
      "Levene Test p-value: 0.1083\n",
      "H0 hypotesis could not be rejected. So that variances are homogeneous.\n"
     ]
    }
   ],
   "source": [
    "check_assumptions(Control_df[\"Purchase\"], Test_df[\"Purchase\"])"
   ]
  },
  {
   "cell_type": "markdown",
   "metadata": {},
   "source": [
    "#### Task 4: Evaluating Results\n",
    "##### Step 1:\n",
    "* Explain which statistical test you used and why you chose it.\n"
   ]
  },
  {
   "cell_type": "markdown",
   "metadata": {},
   "source": [
    "The T parametric test performed with two independent samples was applied to this data set. <br>\n",
    "The reasons for selecting the T-test can be stated as follows.\n",
    "* Normality Assumption: The purchase data of both groups are normally distributed. <br>\n",
    "In the normal distribution test results, the p value is greater than 0.05 for both groups.\n",
    "* When the Variance Homogeneity Assumption is considered, this condition is also met. <br> \n",
    "\n",
    "The variance p values ​​of the groups are greater than 0.05. <br>\n",
    "\n",
    "Under these conditions, using the t-test is the correct option."
   ]
  },
  {
   "cell_type": "markdown",
   "metadata": {},
   "source": [
    "##### Step 2:\n",
    "* Based on your test results, which bidding strategy would you recommend to the customer? Based on the test results, does Maximum Bidding or Average Bidding seem more effective? Explain your recommendation with justification."
   ]
  },
  {
   "cell_type": "markdown",
   "metadata": {},
   "source": [
    "Since the H0 hypothesis are not rejected, there is no big difference between the Test group and the Control group. \n",
    "For this reason, the current situation can be continued. <br>\n",
    "\n",
    "* Therefore, since there is not a big difference between Maximum Bidding and Average Bidding, the company can switch to the average bid method if it wants. For this, a decision can be made according to the method mostly used in the sector, or an analysis can be made according to the data of other companies in the same sector. \n",
    "* In order for the Average Bidding method to give better results, more data can be collected. \n",
    "* Since testing it on other samples can give better results, sample groups can be diversified. \n",
    "* Since adding more parameters to the data set will reveal the analysis result better, data can be collected according to different categories. \n",
    "\n",
    "**However** in the light of the information obtained, no statistical data was found showing that the **_average bid_** method is better than the **_maximum bid_** method.\n"
   ]
  }
 ],
 "metadata": {
  "kernelspec": {
   "display_name": "base",
   "language": "python",
   "name": "python3"
  },
  "language_info": {
   "codemirror_mode": {
    "name": "ipython",
    "version": 3
   },
   "file_extension": ".py",
   "mimetype": "text/x-python",
   "name": "python",
   "nbconvert_exporter": "python",
   "pygments_lexer": "ipython3",
   "version": "3.12.7"
  }
 },
 "nbformat": 4,
 "nbformat_minor": 2
}
